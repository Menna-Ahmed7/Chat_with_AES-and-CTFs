{
 "cells": [
  {
   "cell_type": "markdown",
   "metadata": {},
   "source": [
    "##### Generate an AES 256-bit key from the DH shared key using a key derivation function SHA256(shared secret)"
   ]
  },
  {
   "cell_type": "code",
   "execution_count": 5,
   "metadata": {},
   "outputs": [],
   "source": [
    "from hashlib import sha256\n",
    "\n",
    "def derive_key(shared_secret, info=\"AES key\"):\n",
    "    # Concatenate the shared secret and info string\n",
    "    key_material = shared_secret + info.encode()\n",
    "\n",
    "    # Hash the key_material repeatedly using HMAC-SHA256\n",
    "    key = b\"\"\n",
    "    while len(key) < 32:\n",
    "        key += sha256(key_material + key).digest()\n",
    "\n",
    "    # Return the first 32 bytes (256 bits) as the AES key\n",
    "    return key[:32]"
   ]
  },
  {
   "cell_type": "markdown",
   "metadata": {},
   "source": [
    "##### AES Encryption Implementation"
   ]
  },
  {
   "cell_type": "code",
   "execution_count": 6,
   "metadata": {},
   "outputs": [
    {
     "ename": "ModuleNotFoundError",
     "evalue": "No module named 'Crypto'",
     "output_type": "error",
     "traceback": [
      "\u001b[1;31m---------------------------------------------------------------------------\u001b[0m",
      "\u001b[1;31mModuleNotFoundError\u001b[0m                       Traceback (most recent call last)",
      "Cell \u001b[1;32mIn[6], line 1\u001b[0m\n\u001b[1;32m----> 1\u001b[0m \u001b[38;5;28;01mfrom\u001b[39;00m \u001b[38;5;21;01mCrypto\u001b[39;00m\u001b[38;5;21;01m.\u001b[39;00m\u001b[38;5;21;01mCipher\u001b[39;00m \u001b[38;5;28;01mimport\u001b[39;00m AES\n\u001b[0;32m      3\u001b[0m DH_secret_key_dummy_for_test\u001b[38;5;241m=\u001b[39m\u001b[38;5;241m18\u001b[39m\n\u001b[0;32m      4\u001b[0m key\u001b[38;5;241m=\u001b[39mderive_key(DH_secret_key_dummy_for_test)\n",
      "\u001b[1;31mModuleNotFoundError\u001b[0m: No module named 'Crypto'"
     ]
    }
   ],
   "source": [
    "from Crypto.Cipher import AES\n",
    "from Crypto.Random import get_random_bytes\n",
    "\n",
    "\n",
    "DH_secret_key_dummy_for_test=18\n",
    "key=derive_key(DH_secret_key_dummy_for_test)\n",
    "def AES_Encryption(data):\n",
    "    cipher = AES.new(key, AES.MODE_CTR)\n",
    "    cipher_text = cipher.encrypt(data)\n",
    "    nonce = cipher.nonce\n",
    "    return nonce,cipher_text"
   ]
  },
  {
   "cell_type": "markdown",
   "metadata": {},
   "source": [
    "##### Connecting to Reciever"
   ]
  },
  {
   "cell_type": "code",
   "execution_count": null,
   "metadata": {},
   "outputs": [],
   "source": [
    "import socket\t\t\t \n",
    "\n",
    "s = socket.socket()\t\t \n",
    "print (\"Socket successfully created\")\n",
    "\n",
    "port = 6666\t\t\t\n",
    "\n",
    "# we have not typed any ip in the ip field instead we have inputted an empty string\n",
    "# this makes the server listen to requests coming from other computers on the network \n",
    "s.bind(('', port))\t\t \n",
    "\n",
    "# put the socket into listening mode \n",
    "s.listen(5)\t \n",
    "print (\"socket is listening\")\t\t \n"
   ]
  },
  {
   "cell_type": "markdown",
   "metadata": {},
   "source": [
    "##### Chatting to Reciever"
   ]
  },
  {
   "cell_type": "code",
   "execution_count": null,
   "metadata": {},
   "outputs": [],
   "source": [
    "# a forever loop until we interrupt it or \n",
    "# an error occurs \n",
    "while True: \n",
    "    # Establish connection with client. \n",
    "    c, addr = s.accept()\t \n",
    "    # print ('Got connection from', addr )\n",
    "\n",
    "    # c.send('Thank you for connecting'.encode()) \n",
    "    c.send(AES_Encryption('Thank you for connecting').encode()) \n",
    "\n",
    "    # Close the connection with the client \n",
    "    c.close()"
   ]
  }
 ],
 "metadata": {
  "kernelspec": {
   "display_name": "Python 3",
   "language": "python",
   "name": "python3"
  },
  "language_info": {
   "codemirror_mode": {
    "name": "ipython",
    "version": 3
   },
   "file_extension": ".py",
   "mimetype": "text/x-python",
   "name": "python",
   "nbconvert_exporter": "python",
   "pygments_lexer": "ipython3",
   "version": "3.11.5"
  }
 },
 "nbformat": 4,
 "nbformat_minor": 2
}
